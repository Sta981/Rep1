{
 "cells": [
  {
   "cell_type": "markdown",
   "id": "16c1fa80",
   "metadata": {},
   "source": [
    "# Importing Required Libraries\n",
    "\n",
    "We import all the necessary libraries that will be used throughout our machine learning project. Each library has a specific purpose that helps in data handling, visualization, modeling, and evaluation.\n",
    "\n",
    "- **NumPy**:  \n",
    "  Used for numerical operations. It handles arrays, mathematical functions, and linear algebra efficiently.\n",
    "\n",
    "- **Pandas**:  \n",
    "  Essential for data manipulation and analysis. It helps us read, filter, and structure our dataset using DataFrames.\n",
    "\n",
    "- **Matplotlib**:  \n",
    "  Used for creating basic visualizations such as line charts, bar graphs, and histograms.\n",
    "\n",
    "- **Seaborn**:  \n",
    "  A statistical data visualization library built on top of Matplotlib. It provides beautiful and informative graphics.\n",
    "\n",
    "- **Scikit-learn**:  \n",
    "  The core machine learning library for Python. It provides tools for:\n",
    "  - Preprocessing (e.g. scaling, train-test split)\n",
    "  - Building models (e.g. logistic regression, decision trees)\n",
    "  - Evaluating models (e.g. accuracy, confusion matrix)\n",
    "\n",
    "\n",
    "- **Pickle**:\n",
    "\n",
    "  We use the `pickle` library to save the trained ML model into a `.pkl` file.\n",
    "This allows us to reuse the model without retraining.\n",
    "\n",
    "\n",
    "- Avoids retraining\n",
    "- Good for deployment\n",
    "- Makes model portable\n",
    "\n",
    "\n"
   ]
  },
  {
   "cell_type": "code",
   "execution_count": null,
   "id": "33723c46",
   "metadata": {},
   "outputs": [],
   "source": [
    "# Numerical and data manipulation \n",
    "import numpy as np\n",
    "import pandas as pd\n",
    "\n",
    "# Visualization libraries \n",
    "import matplotlib.pyplot as plt\n",
    "import seaborn as sns \n",
    "\n",
    "# Machine learning tools from sklearn\n",
    "\n",
    "from sklearn.model_selection import train_test_split\n",
    "from sklearn.preprocessing import StandardScaler\n",
    "from sklearn.linear_model import LogisticRegression\n",
    "from sklearn.metrics import accuracy_score, confusion_matrix, classification_report\n",
    "\n",
    "# For save the model\n",
    "import pickle\n"
   ]
  },
  {
   "cell_type": "markdown",
   "id": "497383e9",
   "metadata": {},
   "source": [
    "# Data Loading and Exploration with Classes\n",
    "\n",
    "We are creating a single class `DataLoader` which:\n",
    "- Loads the CSV file into a Pandas DataFrame\n",
    "- Automatically prints the following information upon method calls:\n",
    "  \n",
    "\n",
    "  - `head_data()` ➝ Returns the top rows\n",
    "  - `tail_data()` ➝ Returns the bottom rows\n",
    "  - `sample_data()` ➝ Returns a random sample of the data\n",
    "  - `describe_data()` ➝ Shows statistical summary\n",
    "  - `info_data()` ➝ Shows data types and nulls\n"
   ]
  },
  {
   "cell_type": "code",
   "execution_count": 100,
   "id": "7e82848e",
   "metadata": {},
   "outputs": [],
   "source": [
    "pd.set_option(\"display.width\",1000)\n",
    "\n",
    "class DataLoader:\n",
    "\n",
    "    def __init__(self, file_path):\n",
    "        \"\"\"\n",
    "        Initializes the DataLoader with file path\n",
    "        Loads data into self.df\n",
    "        \"\"\"\n",
    "        self.file_path = file_path\n",
    "        self.df = None \n",
    "    def load_data(self):\n",
    "        try:\n",
    "            self.df = pd.read_csv(self.file_path)\n",
    "            return \"Data loaded successfully\"\n",
    "        except Exception as e:\n",
    "            return f\"Error loading data : {e} \"\n",
    "        \n",
    "    def show_head(self):\n",
    "        print(\"\\nHead of the dataset:\")\n",
    "        return self.df.head()\n",
    "\n",
    "    def show_tail(self):\n",
    "        print(\"\\nTail of the dataset:\")\n",
    "        return self.df.tail()\n",
    "    \n",
    "    def show_shape(self):\n",
    "        print(\"\\nRows and columns in the dataset are:\")\n",
    "        return self.df.shape\n",
    "    def show_sample(self):\n",
    "        print(\"\\nRandom Sample of the Dataset :\")\n",
    "        return self.df.sample()\n",
    "\n",
    "    def show_description(self):\n",
    "        print(\"\\nStatistical summary:\")\n",
    "        return self.df.describe()\n",
    "        \n",
    "    def show_info(self):\n",
    "        print(\"/nDataset information :\")\n",
    "        return self.df.info()\n",
    "\n"
   ]
  },
  {
   "cell_type": "code",
   "execution_count": 101,
   "id": "56a7b801",
   "metadata": {},
   "outputs": [
    {
     "data": {
      "text/plain": [
       "'Data loaded successfully'"
      ]
     },
     "execution_count": 101,
     "metadata": {},
     "output_type": "execute_result"
    }
   ],
   "source": [
    "\"\"\"Initialize DataLoader Object with CSV File\"\"\"\n",
    "loader = DataLoader(\"diabetes.csv\")\n",
    "loader.load_data()\n"
   ]
  },
  {
   "cell_type": "code",
   "execution_count": 102,
   "id": "b380b2a0",
   "metadata": {},
   "outputs": [
    {
     "name": "stdout",
     "output_type": "stream",
     "text": [
      "\n",
      "Head of the dataset:\n"
     ]
    },
    {
     "data": {
      "text/html": [
       "<div>\n",
       "<style scoped>\n",
       "    .dataframe tbody tr th:only-of-type {\n",
       "        vertical-align: middle;\n",
       "    }\n",
       "\n",
       "    .dataframe tbody tr th {\n",
       "        vertical-align: top;\n",
       "    }\n",
       "\n",
       "    .dataframe thead th {\n",
       "        text-align: right;\n",
       "    }\n",
       "</style>\n",
       "<table border=\"1\" class=\"dataframe\">\n",
       "  <thead>\n",
       "    <tr style=\"text-align: right;\">\n",
       "      <th></th>\n",
       "      <th>Pregnancies</th>\n",
       "      <th>Glucose</th>\n",
       "      <th>BloodPressure</th>\n",
       "      <th>SkinThickness</th>\n",
       "      <th>Insulin</th>\n",
       "      <th>BMI</th>\n",
       "      <th>DiabetesPedigreeFunction</th>\n",
       "      <th>Age</th>\n",
       "      <th>Outcome</th>\n",
       "    </tr>\n",
       "  </thead>\n",
       "  <tbody>\n",
       "    <tr>\n",
       "      <th>0</th>\n",
       "      <td>6</td>\n",
       "      <td>148</td>\n",
       "      <td>72</td>\n",
       "      <td>35</td>\n",
       "      <td>0</td>\n",
       "      <td>33.6</td>\n",
       "      <td>0.627</td>\n",
       "      <td>50</td>\n",
       "      <td>1</td>\n",
       "    </tr>\n",
       "    <tr>\n",
       "      <th>1</th>\n",
       "      <td>1</td>\n",
       "      <td>85</td>\n",
       "      <td>66</td>\n",
       "      <td>29</td>\n",
       "      <td>0</td>\n",
       "      <td>26.6</td>\n",
       "      <td>0.351</td>\n",
       "      <td>31</td>\n",
       "      <td>0</td>\n",
       "    </tr>\n",
       "    <tr>\n",
       "      <th>2</th>\n",
       "      <td>8</td>\n",
       "      <td>183</td>\n",
       "      <td>64</td>\n",
       "      <td>0</td>\n",
       "      <td>0</td>\n",
       "      <td>23.3</td>\n",
       "      <td>0.672</td>\n",
       "      <td>32</td>\n",
       "      <td>1</td>\n",
       "    </tr>\n",
       "    <tr>\n",
       "      <th>3</th>\n",
       "      <td>1</td>\n",
       "      <td>89</td>\n",
       "      <td>66</td>\n",
       "      <td>23</td>\n",
       "      <td>94</td>\n",
       "      <td>28.1</td>\n",
       "      <td>0.167</td>\n",
       "      <td>21</td>\n",
       "      <td>0</td>\n",
       "    </tr>\n",
       "    <tr>\n",
       "      <th>4</th>\n",
       "      <td>0</td>\n",
       "      <td>137</td>\n",
       "      <td>40</td>\n",
       "      <td>35</td>\n",
       "      <td>168</td>\n",
       "      <td>43.1</td>\n",
       "      <td>2.288</td>\n",
       "      <td>33</td>\n",
       "      <td>1</td>\n",
       "    </tr>\n",
       "  </tbody>\n",
       "</table>\n",
       "</div>"
      ],
      "text/plain": [
       "   Pregnancies  Glucose  BloodPressure  SkinThickness  Insulin   BMI  DiabetesPedigreeFunction  Age  Outcome\n",
       "0            6      148             72             35        0  33.6                     0.627   50        1\n",
       "1            1       85             66             29        0  26.6                     0.351   31        0\n",
       "2            8      183             64              0        0  23.3                     0.672   32        1\n",
       "3            1       89             66             23       94  28.1                     0.167   21        0\n",
       "4            0      137             40             35      168  43.1                     2.288   33        1"
      ]
     },
     "execution_count": 102,
     "metadata": {},
     "output_type": "execute_result"
    }
   ],
   "source": [
    "loader.show_head()"
   ]
  },
  {
   "cell_type": "code",
   "execution_count": 103,
   "id": "0ea21c45",
   "metadata": {},
   "outputs": [
    {
     "name": "stdout",
     "output_type": "stream",
     "text": [
      "\n",
      "Tail of the dataset:\n"
     ]
    },
    {
     "data": {
      "text/html": [
       "<div>\n",
       "<style scoped>\n",
       "    .dataframe tbody tr th:only-of-type {\n",
       "        vertical-align: middle;\n",
       "    }\n",
       "\n",
       "    .dataframe tbody tr th {\n",
       "        vertical-align: top;\n",
       "    }\n",
       "\n",
       "    .dataframe thead th {\n",
       "        text-align: right;\n",
       "    }\n",
       "</style>\n",
       "<table border=\"1\" class=\"dataframe\">\n",
       "  <thead>\n",
       "    <tr style=\"text-align: right;\">\n",
       "      <th></th>\n",
       "      <th>Pregnancies</th>\n",
       "      <th>Glucose</th>\n",
       "      <th>BloodPressure</th>\n",
       "      <th>SkinThickness</th>\n",
       "      <th>Insulin</th>\n",
       "      <th>BMI</th>\n",
       "      <th>DiabetesPedigreeFunction</th>\n",
       "      <th>Age</th>\n",
       "      <th>Outcome</th>\n",
       "    </tr>\n",
       "  </thead>\n",
       "  <tbody>\n",
       "    <tr>\n",
       "      <th>763</th>\n",
       "      <td>10</td>\n",
       "      <td>101</td>\n",
       "      <td>76</td>\n",
       "      <td>48</td>\n",
       "      <td>180</td>\n",
       "      <td>32.9</td>\n",
       "      <td>0.171</td>\n",
       "      <td>63</td>\n",
       "      <td>0</td>\n",
       "    </tr>\n",
       "    <tr>\n",
       "      <th>764</th>\n",
       "      <td>2</td>\n",
       "      <td>122</td>\n",
       "      <td>70</td>\n",
       "      <td>27</td>\n",
       "      <td>0</td>\n",
       "      <td>36.8</td>\n",
       "      <td>0.340</td>\n",
       "      <td>27</td>\n",
       "      <td>0</td>\n",
       "    </tr>\n",
       "    <tr>\n",
       "      <th>765</th>\n",
       "      <td>5</td>\n",
       "      <td>121</td>\n",
       "      <td>72</td>\n",
       "      <td>23</td>\n",
       "      <td>112</td>\n",
       "      <td>26.2</td>\n",
       "      <td>0.245</td>\n",
       "      <td>30</td>\n",
       "      <td>0</td>\n",
       "    </tr>\n",
       "    <tr>\n",
       "      <th>766</th>\n",
       "      <td>1</td>\n",
       "      <td>126</td>\n",
       "      <td>60</td>\n",
       "      <td>0</td>\n",
       "      <td>0</td>\n",
       "      <td>30.1</td>\n",
       "      <td>0.349</td>\n",
       "      <td>47</td>\n",
       "      <td>1</td>\n",
       "    </tr>\n",
       "    <tr>\n",
       "      <th>767</th>\n",
       "      <td>1</td>\n",
       "      <td>93</td>\n",
       "      <td>70</td>\n",
       "      <td>31</td>\n",
       "      <td>0</td>\n",
       "      <td>30.4</td>\n",
       "      <td>0.315</td>\n",
       "      <td>23</td>\n",
       "      <td>0</td>\n",
       "    </tr>\n",
       "  </tbody>\n",
       "</table>\n",
       "</div>"
      ],
      "text/plain": [
       "     Pregnancies  Glucose  BloodPressure  SkinThickness  Insulin   BMI  DiabetesPedigreeFunction  Age  Outcome\n",
       "763           10      101             76             48      180  32.9                     0.171   63        0\n",
       "764            2      122             70             27        0  36.8                     0.340   27        0\n",
       "765            5      121             72             23      112  26.2                     0.245   30        0\n",
       "766            1      126             60              0        0  30.1                     0.349   47        1\n",
       "767            1       93             70             31        0  30.4                     0.315   23        0"
      ]
     },
     "execution_count": 103,
     "metadata": {},
     "output_type": "execute_result"
    }
   ],
   "source": [
    "loader.show_tail()"
   ]
  },
  {
   "cell_type": "code",
   "execution_count": 104,
   "id": "a56133f1",
   "metadata": {},
   "outputs": [
    {
     "name": "stdout",
     "output_type": "stream",
     "text": [
      "\n",
      "Random Sample of the Dataset :\n"
     ]
    },
    {
     "data": {
      "text/html": [
       "<div>\n",
       "<style scoped>\n",
       "    .dataframe tbody tr th:only-of-type {\n",
       "        vertical-align: middle;\n",
       "    }\n",
       "\n",
       "    .dataframe tbody tr th {\n",
       "        vertical-align: top;\n",
       "    }\n",
       "\n",
       "    .dataframe thead th {\n",
       "        text-align: right;\n",
       "    }\n",
       "</style>\n",
       "<table border=\"1\" class=\"dataframe\">\n",
       "  <thead>\n",
       "    <tr style=\"text-align: right;\">\n",
       "      <th></th>\n",
       "      <th>Pregnancies</th>\n",
       "      <th>Glucose</th>\n",
       "      <th>BloodPressure</th>\n",
       "      <th>SkinThickness</th>\n",
       "      <th>Insulin</th>\n",
       "      <th>BMI</th>\n",
       "      <th>DiabetesPedigreeFunction</th>\n",
       "      <th>Age</th>\n",
       "      <th>Outcome</th>\n",
       "    </tr>\n",
       "  </thead>\n",
       "  <tbody>\n",
       "    <tr>\n",
       "      <th>552</th>\n",
       "      <td>6</td>\n",
       "      <td>114</td>\n",
       "      <td>88</td>\n",
       "      <td>0</td>\n",
       "      <td>0</td>\n",
       "      <td>27.8</td>\n",
       "      <td>0.247</td>\n",
       "      <td>66</td>\n",
       "      <td>0</td>\n",
       "    </tr>\n",
       "  </tbody>\n",
       "</table>\n",
       "</div>"
      ],
      "text/plain": [
       "     Pregnancies  Glucose  BloodPressure  SkinThickness  Insulin   BMI  DiabetesPedigreeFunction  Age  Outcome\n",
       "552            6      114             88              0        0  27.8                     0.247   66        0"
      ]
     },
     "execution_count": 104,
     "metadata": {},
     "output_type": "execute_result"
    }
   ],
   "source": [
    "loader.show_sample()"
   ]
  },
  {
   "cell_type": "code",
   "execution_count": 105,
   "id": "243e2538",
   "metadata": {},
   "outputs": [
    {
     "name": "stdout",
     "output_type": "stream",
     "text": [
      "\n",
      "Statistical summary:\n"
     ]
    },
    {
     "data": {
      "text/html": [
       "<div>\n",
       "<style scoped>\n",
       "    .dataframe tbody tr th:only-of-type {\n",
       "        vertical-align: middle;\n",
       "    }\n",
       "\n",
       "    .dataframe tbody tr th {\n",
       "        vertical-align: top;\n",
       "    }\n",
       "\n",
       "    .dataframe thead th {\n",
       "        text-align: right;\n",
       "    }\n",
       "</style>\n",
       "<table border=\"1\" class=\"dataframe\">\n",
       "  <thead>\n",
       "    <tr style=\"text-align: right;\">\n",
       "      <th></th>\n",
       "      <th>Pregnancies</th>\n",
       "      <th>Glucose</th>\n",
       "      <th>BloodPressure</th>\n",
       "      <th>SkinThickness</th>\n",
       "      <th>Insulin</th>\n",
       "      <th>BMI</th>\n",
       "      <th>DiabetesPedigreeFunction</th>\n",
       "      <th>Age</th>\n",
       "      <th>Outcome</th>\n",
       "    </tr>\n",
       "  </thead>\n",
       "  <tbody>\n",
       "    <tr>\n",
       "      <th>count</th>\n",
       "      <td>768.000000</td>\n",
       "      <td>768.000000</td>\n",
       "      <td>768.000000</td>\n",
       "      <td>768.000000</td>\n",
       "      <td>768.000000</td>\n",
       "      <td>768.000000</td>\n",
       "      <td>768.000000</td>\n",
       "      <td>768.000000</td>\n",
       "      <td>768.000000</td>\n",
       "    </tr>\n",
       "    <tr>\n",
       "      <th>mean</th>\n",
       "      <td>3.845052</td>\n",
       "      <td>120.894531</td>\n",
       "      <td>69.105469</td>\n",
       "      <td>20.536458</td>\n",
       "      <td>79.799479</td>\n",
       "      <td>31.992578</td>\n",
       "      <td>0.471876</td>\n",
       "      <td>33.240885</td>\n",
       "      <td>0.348958</td>\n",
       "    </tr>\n",
       "    <tr>\n",
       "      <th>std</th>\n",
       "      <td>3.369578</td>\n",
       "      <td>31.972618</td>\n",
       "      <td>19.355807</td>\n",
       "      <td>15.952218</td>\n",
       "      <td>115.244002</td>\n",
       "      <td>7.884160</td>\n",
       "      <td>0.331329</td>\n",
       "      <td>11.760232</td>\n",
       "      <td>0.476951</td>\n",
       "    </tr>\n",
       "    <tr>\n",
       "      <th>min</th>\n",
       "      <td>0.000000</td>\n",
       "      <td>0.000000</td>\n",
       "      <td>0.000000</td>\n",
       "      <td>0.000000</td>\n",
       "      <td>0.000000</td>\n",
       "      <td>0.000000</td>\n",
       "      <td>0.078000</td>\n",
       "      <td>21.000000</td>\n",
       "      <td>0.000000</td>\n",
       "    </tr>\n",
       "    <tr>\n",
       "      <th>25%</th>\n",
       "      <td>1.000000</td>\n",
       "      <td>99.000000</td>\n",
       "      <td>62.000000</td>\n",
       "      <td>0.000000</td>\n",
       "      <td>0.000000</td>\n",
       "      <td>27.300000</td>\n",
       "      <td>0.243750</td>\n",
       "      <td>24.000000</td>\n",
       "      <td>0.000000</td>\n",
       "    </tr>\n",
       "    <tr>\n",
       "      <th>50%</th>\n",
       "      <td>3.000000</td>\n",
       "      <td>117.000000</td>\n",
       "      <td>72.000000</td>\n",
       "      <td>23.000000</td>\n",
       "      <td>30.500000</td>\n",
       "      <td>32.000000</td>\n",
       "      <td>0.372500</td>\n",
       "      <td>29.000000</td>\n",
       "      <td>0.000000</td>\n",
       "    </tr>\n",
       "    <tr>\n",
       "      <th>75%</th>\n",
       "      <td>6.000000</td>\n",
       "      <td>140.250000</td>\n",
       "      <td>80.000000</td>\n",
       "      <td>32.000000</td>\n",
       "      <td>127.250000</td>\n",
       "      <td>36.600000</td>\n",
       "      <td>0.626250</td>\n",
       "      <td>41.000000</td>\n",
       "      <td>1.000000</td>\n",
       "    </tr>\n",
       "    <tr>\n",
       "      <th>max</th>\n",
       "      <td>17.000000</td>\n",
       "      <td>199.000000</td>\n",
       "      <td>122.000000</td>\n",
       "      <td>99.000000</td>\n",
       "      <td>846.000000</td>\n",
       "      <td>67.100000</td>\n",
       "      <td>2.420000</td>\n",
       "      <td>81.000000</td>\n",
       "      <td>1.000000</td>\n",
       "    </tr>\n",
       "  </tbody>\n",
       "</table>\n",
       "</div>"
      ],
      "text/plain": [
       "       Pregnancies     Glucose  BloodPressure  SkinThickness     Insulin         BMI  DiabetesPedigreeFunction         Age     Outcome\n",
       "count   768.000000  768.000000     768.000000     768.000000  768.000000  768.000000                768.000000  768.000000  768.000000\n",
       "mean      3.845052  120.894531      69.105469      20.536458   79.799479   31.992578                  0.471876   33.240885    0.348958\n",
       "std       3.369578   31.972618      19.355807      15.952218  115.244002    7.884160                  0.331329   11.760232    0.476951\n",
       "min       0.000000    0.000000       0.000000       0.000000    0.000000    0.000000                  0.078000   21.000000    0.000000\n",
       "25%       1.000000   99.000000      62.000000       0.000000    0.000000   27.300000                  0.243750   24.000000    0.000000\n",
       "50%       3.000000  117.000000      72.000000      23.000000   30.500000   32.000000                  0.372500   29.000000    0.000000\n",
       "75%       6.000000  140.250000      80.000000      32.000000  127.250000   36.600000                  0.626250   41.000000    1.000000\n",
       "max      17.000000  199.000000     122.000000      99.000000  846.000000   67.100000                  2.420000   81.000000    1.000000"
      ]
     },
     "execution_count": 105,
     "metadata": {},
     "output_type": "execute_result"
    }
   ],
   "source": [
    "loader.show_description()"
   ]
  },
  {
   "cell_type": "code",
   "execution_count": 106,
   "id": "6a1c9df9",
   "metadata": {},
   "outputs": [
    {
     "name": "stdout",
     "output_type": "stream",
     "text": [
      "/nDataset information :\n",
      "<class 'pandas.core.frame.DataFrame'>\n",
      "RangeIndex: 768 entries, 0 to 767\n",
      "Data columns (total 9 columns):\n",
      " #   Column                    Non-Null Count  Dtype  \n",
      "---  ------                    --------------  -----  \n",
      " 0   Pregnancies               768 non-null    int64  \n",
      " 1   Glucose                   768 non-null    int64  \n",
      " 2   BloodPressure             768 non-null    int64  \n",
      " 3   SkinThickness             768 non-null    int64  \n",
      " 4   Insulin                   768 non-null    int64  \n",
      " 5   BMI                       768 non-null    float64\n",
      " 6   DiabetesPedigreeFunction  768 non-null    float64\n",
      " 7   Age                       768 non-null    int64  \n",
      " 8   Outcome                   768 non-null    int64  \n",
      "dtypes: float64(2), int64(7)\n",
      "memory usage: 54.1 KB\n"
     ]
    }
   ],
   "source": [
    "loader.show_info()"
   ]
  },
  {
   "cell_type": "markdown",
   "id": "ac761504",
   "metadata": {},
   "source": [
    "# Data Cleaning and Preprocessing\n",
    "\n",
    "We create a new class called `DataCleaner` to handle preprocessing tasks before training a machine learning model.\n",
    "\n",
    "### Tasks Performed:\n",
    "\n",
    "1. **Null Value Handling**\n",
    "   - We check for missing (null) values in the dataset.\n",
    "   - If any are found, we decide whether to:\n",
    "     - Drop them\n",
    "     - Fill them with statistical values (like mean or median)\n",
    "\n",
    "2. **Zero Value Handling**\n",
    "   - In medical datasets like this, some features may have zero values which are **not valid** (e.g., 0 blood pressure is not realistic).\n",
    "   - We treat zeros as missing values **in specific columns only**, and then replace them using:\n",
    "     - **Mean or Median**, depending on the distribution of the column.\n",
    "\n",
    "3. **Column Renaming**\n",
    "   - Columns with long names are converted to **abbreviations or simpler names** to improve readability and code simplicity.\n",
    "  \n",
    "   - 'Pregnancies': 'Preg',\n",
    "   - 'Glucose': 'Glu',\n",
    "   - 'BloodPressure': 'BP',\n",
    "   - 'SkinThickness': 'Skin',\n",
    "   - 'Insulin': 'Ins',\n",
    "   - 'BMI': 'BMI',\n",
    "   - 'DiabetesPedigreeFunction': 'DPF',\n",
    "   - 'Age': 'Age',\n",
    "   - 'Outcome': 'Outcome'\n",
    "\n",
    "\n"
   ]
  },
  {
   "cell_type": "code",
   "execution_count": 107,
   "id": "34923048",
   "metadata": {},
   "outputs": [],
   "source": [
    "class DataCleaner:\n",
    "    def __init__(self, dataframe):\n",
    "        self.df = dataframe.copy()\n",
    "\n",
    "    def check_nulls(self):\n",
    "        print(\"\\nChecking for null values:\")\n",
    "        return self.df.isnull().sum()\n",
    "\n",
    "    def replace_zeros(self):\n",
    "        print(\"\\nHandling zero values in selected columns...\")\n",
    "        # Columns where zero is not a valid value \n",
    "        cols_with_invalid_zeros = ['Glucose', 'BloodPressure', 'SkinThickness', 'Insulin', 'BMI']\n",
    "\n",
    "        for col in cols_with_invalid_zeros:\n",
    "            zero_count = (self.df[col] == 0).sum()\n",
    "            median_value = self.df[self.df[col] != 0][col].median()\n",
    "            print(f\"Column '{col}' with median value: {median_value}\")\n",
    "\n",
    "    def rename_columns(self):\n",
    "        print(\"\\nRemaining columns to simpler names....\")\n",
    "        renamed_columns = {\n",
    "            'Pregnancies': 'Preg',\n",
    "            'Glucose' : 'Glu',\n",
    "            'BloodPressure' : 'BP',\n",
    "            'SkinThickness': 'Skin',\n",
    "            'Insulin': 'Ins',\n",
    "            'BMI': 'BMI',\n",
    "            'DiabetesPedigreeFunction': 'DPF',\n",
    "            'Age': 'Age',\n",
    "            'Outcome': 'Outcome'\n",
    "        }\n",
    "        self.df.rename(columns=renamed_columns, inplace= True)\n",
    "        print(\"Renamed columns successfully.\")\n",
    "\n",
    "    def get_clean_data(self):\n",
    "        return self.df\n",
    "        "
   ]
  },
  {
   "cell_type": "code",
   "execution_count": 108,
   "id": "9a67332e",
   "metadata": {},
   "outputs": [
    {
     "name": "stdout",
     "output_type": "stream",
     "text": [
      "\n",
      "Checking for null values:\n"
     ]
    },
    {
     "data": {
      "text/plain": [
       "Pregnancies                 0\n",
       "Glucose                     0\n",
       "BloodPressure               0\n",
       "SkinThickness               0\n",
       "Insulin                     0\n",
       "BMI                         0\n",
       "DiabetesPedigreeFunction    0\n",
       "Age                         0\n",
       "Outcome                     0\n",
       "dtype: int64"
      ]
     },
     "execution_count": 108,
     "metadata": {},
     "output_type": "execute_result"
    }
   ],
   "source": [
    "loader = DataLoader(\"diabetes.csv\")\n",
    "loader.load_data()\n",
    "df = loader.df\n",
    "cleaner = DataCleaner(df)\n",
    "cleaner.check_nulls()\n"
   ]
  },
  {
   "cell_type": "code",
   "execution_count": 109,
   "id": "1e2466af",
   "metadata": {},
   "outputs": [
    {
     "name": "stdout",
     "output_type": "stream",
     "text": [
      "\n",
      "Handling zero values in selected columns...\n",
      "Column 'Glucose' with median value: 117.0\n",
      "Column 'BloodPressure' with median value: 72.0\n",
      "Column 'SkinThickness' with median value: 29.0\n",
      "Column 'Insulin' with median value: 125.0\n",
      "Column 'BMI' with median value: 32.3\n"
     ]
    }
   ],
   "source": [
    "cleaner.replace_zeros()"
   ]
  },
  {
   "cell_type": "code",
   "execution_count": null,
   "id": "b0359381",
   "metadata": {},
   "outputs": [
    {
     "name": "stdout",
     "output_type": "stream",
     "text": [
      "\n",
      "Remaining columns to simpler names....\n",
      "Renamed columns successfully.\n"
     ]
    }
   ],
   "source": [
    "cleaner.rename_columns()"
   ]
  },
  {
   "cell_type": "code",
   "execution_count": 111,
   "id": "f0894fea",
   "metadata": {},
   "outputs": [
    {
     "data": {
      "text/html": [
       "<div>\n",
       "<style scoped>\n",
       "    .dataframe tbody tr th:only-of-type {\n",
       "        vertical-align: middle;\n",
       "    }\n",
       "\n",
       "    .dataframe tbody tr th {\n",
       "        vertical-align: top;\n",
       "    }\n",
       "\n",
       "    .dataframe thead th {\n",
       "        text-align: right;\n",
       "    }\n",
       "</style>\n",
       "<table border=\"1\" class=\"dataframe\">\n",
       "  <thead>\n",
       "    <tr style=\"text-align: right;\">\n",
       "      <th></th>\n",
       "      <th>Preg</th>\n",
       "      <th>Glu</th>\n",
       "      <th>BP</th>\n",
       "      <th>Skin</th>\n",
       "      <th>Ins</th>\n",
       "      <th>BMI</th>\n",
       "      <th>DPF</th>\n",
       "      <th>Age</th>\n",
       "      <th>Outcome</th>\n",
       "    </tr>\n",
       "  </thead>\n",
       "  <tbody>\n",
       "    <tr>\n",
       "      <th>0</th>\n",
       "      <td>6</td>\n",
       "      <td>148</td>\n",
       "      <td>72</td>\n",
       "      <td>35</td>\n",
       "      <td>0</td>\n",
       "      <td>33.6</td>\n",
       "      <td>0.627</td>\n",
       "      <td>50</td>\n",
       "      <td>1</td>\n",
       "    </tr>\n",
       "    <tr>\n",
       "      <th>1</th>\n",
       "      <td>1</td>\n",
       "      <td>85</td>\n",
       "      <td>66</td>\n",
       "      <td>29</td>\n",
       "      <td>0</td>\n",
       "      <td>26.6</td>\n",
       "      <td>0.351</td>\n",
       "      <td>31</td>\n",
       "      <td>0</td>\n",
       "    </tr>\n",
       "    <tr>\n",
       "      <th>2</th>\n",
       "      <td>8</td>\n",
       "      <td>183</td>\n",
       "      <td>64</td>\n",
       "      <td>0</td>\n",
       "      <td>0</td>\n",
       "      <td>23.3</td>\n",
       "      <td>0.672</td>\n",
       "      <td>32</td>\n",
       "      <td>1</td>\n",
       "    </tr>\n",
       "    <tr>\n",
       "      <th>3</th>\n",
       "      <td>1</td>\n",
       "      <td>89</td>\n",
       "      <td>66</td>\n",
       "      <td>23</td>\n",
       "      <td>94</td>\n",
       "      <td>28.1</td>\n",
       "      <td>0.167</td>\n",
       "      <td>21</td>\n",
       "      <td>0</td>\n",
       "    </tr>\n",
       "    <tr>\n",
       "      <th>4</th>\n",
       "      <td>0</td>\n",
       "      <td>137</td>\n",
       "      <td>40</td>\n",
       "      <td>35</td>\n",
       "      <td>168</td>\n",
       "      <td>43.1</td>\n",
       "      <td>2.288</td>\n",
       "      <td>33</td>\n",
       "      <td>1</td>\n",
       "    </tr>\n",
       "    <tr>\n",
       "      <th>...</th>\n",
       "      <td>...</td>\n",
       "      <td>...</td>\n",
       "      <td>...</td>\n",
       "      <td>...</td>\n",
       "      <td>...</td>\n",
       "      <td>...</td>\n",
       "      <td>...</td>\n",
       "      <td>...</td>\n",
       "      <td>...</td>\n",
       "    </tr>\n",
       "    <tr>\n",
       "      <th>763</th>\n",
       "      <td>10</td>\n",
       "      <td>101</td>\n",
       "      <td>76</td>\n",
       "      <td>48</td>\n",
       "      <td>180</td>\n",
       "      <td>32.9</td>\n",
       "      <td>0.171</td>\n",
       "      <td>63</td>\n",
       "      <td>0</td>\n",
       "    </tr>\n",
       "    <tr>\n",
       "      <th>764</th>\n",
       "      <td>2</td>\n",
       "      <td>122</td>\n",
       "      <td>70</td>\n",
       "      <td>27</td>\n",
       "      <td>0</td>\n",
       "      <td>36.8</td>\n",
       "      <td>0.340</td>\n",
       "      <td>27</td>\n",
       "      <td>0</td>\n",
       "    </tr>\n",
       "    <tr>\n",
       "      <th>765</th>\n",
       "      <td>5</td>\n",
       "      <td>121</td>\n",
       "      <td>72</td>\n",
       "      <td>23</td>\n",
       "      <td>112</td>\n",
       "      <td>26.2</td>\n",
       "      <td>0.245</td>\n",
       "      <td>30</td>\n",
       "      <td>0</td>\n",
       "    </tr>\n",
       "    <tr>\n",
       "      <th>766</th>\n",
       "      <td>1</td>\n",
       "      <td>126</td>\n",
       "      <td>60</td>\n",
       "      <td>0</td>\n",
       "      <td>0</td>\n",
       "      <td>30.1</td>\n",
       "      <td>0.349</td>\n",
       "      <td>47</td>\n",
       "      <td>1</td>\n",
       "    </tr>\n",
       "    <tr>\n",
       "      <th>767</th>\n",
       "      <td>1</td>\n",
       "      <td>93</td>\n",
       "      <td>70</td>\n",
       "      <td>31</td>\n",
       "      <td>0</td>\n",
       "      <td>30.4</td>\n",
       "      <td>0.315</td>\n",
       "      <td>23</td>\n",
       "      <td>0</td>\n",
       "    </tr>\n",
       "  </tbody>\n",
       "</table>\n",
       "<p>768 rows × 9 columns</p>\n",
       "</div>"
      ],
      "text/plain": [
       "     Preg  Glu  BP  Skin  Ins   BMI    DPF  Age  Outcome\n",
       "0       6  148  72    35    0  33.6  0.627   50        1\n",
       "1       1   85  66    29    0  26.6  0.351   31        0\n",
       "2       8  183  64     0    0  23.3  0.672   32        1\n",
       "3       1   89  66    23   94  28.1  0.167   21        0\n",
       "4       0  137  40    35  168  43.1  2.288   33        1\n",
       "..    ...  ...  ..   ...  ...   ...    ...  ...      ...\n",
       "763    10  101  76    48  180  32.9  0.171   63        0\n",
       "764     2  122  70    27    0  36.8  0.340   27        0\n",
       "765     5  121  72    23  112  26.2  0.245   30        0\n",
       "766     1  126  60     0    0  30.1  0.349   47        1\n",
       "767     1   93  70    31    0  30.4  0.315   23        0\n",
       "\n",
       "[768 rows x 9 columns]"
      ]
     },
     "execution_count": 111,
     "metadata": {},
     "output_type": "execute_result"
    }
   ],
   "source": [
    "# Get the cleaned and updated dataframe\n",
    "cleaned_df = cleaner.get_clean_data()\n",
    "cleaned_df"
   ]
  },
  {
   "cell_type": "markdown",
   "id": "b75d6243",
   "metadata": {},
   "source": [
    "# Statistical Analysis of Dataset\n",
    "\n",
    "We define a class named `DataStatistics` that gives a deeper insight into the dataset. While `describe()` gives a general overview, we often need specific statistics to make informed decisions about:\n",
    "\n",
    "- Feature distributions\n",
    "- Skewness or symmetry\n",
    "- Outliers detection\n",
    "- Feature scaling requirements\n",
    "\n",
    "### Tasks Performed:\n",
    "\n",
    "1. **Mean** - Average of each feature\n",
    "2. **Median** - Middle value (less sensitive to outliers)\n",
    "3. **Mode** - Most frequent value in each column\n",
    "4. **Max** - Maximum value of each feature\n",
    "5. **Min** - Minimum value of each feature\n",
    "6. **Standard Deviation (std)** - Spread of values\n",
    "7. **Variance** - Square of standard deviation\n",
    "8. **Count** - Number of non-null entries per column\n",
    "\n",
    "This class helps us understand how each feature behaves statistically, which is crucial for preprocessing and model building.\n"
   ]
  },
  {
   "cell_type": "code",
   "execution_count": 112,
   "id": "81481c27",
   "metadata": {},
   "outputs": [],
   "source": [
    "class DataStatistics:\n",
    "    def __init__(self, dataframe):\n",
    "        self.df = dataframe.copy()\n",
    "    \n",
    "    def show_mean(self):\n",
    "        print(\"\\nMean of each column:\")\n",
    "        return self.df.mean()\n",
    "    def show_median(self):\n",
    "        print(\"\\nMedian of each column:\")\n",
    "        return self.df.median()\n",
    "    def show_mode(self):\n",
    "        print(\"\\nMode of each column:\")\n",
    "        return self.df.mode()\n",
    "    def show_max(self):\n",
    "        print(\"\\nMaximum value in each column:\")\n",
    "        return self.df.max()\n",
    "    def show_min(self):\n",
    "        print(\"\\nMinimum value in each column:\")\n",
    "        return self.df.min()\n",
    "    def show_std(self):\n",
    "        print(\"\\nStandard Deviation of each column:\")\n",
    "        return self.df.std()\n",
    "    def show_variance(self):\n",
    "        print(\"\\nVariance of each column:\")\n",
    "        return self.df.var()\n",
    "    def show_count(self):\n",
    "        print(\"\\nCount of non-null values in each column:\")\n",
    "        return self.df.count()"
   ]
  },
  {
   "cell_type": "code",
   "execution_count": 113,
   "id": "4108910d",
   "metadata": {},
   "outputs": [
    {
     "name": "stdout",
     "output_type": "stream",
     "text": [
      "\n",
      "Mean of each column:\n"
     ]
    },
    {
     "data": {
      "text/plain": [
       "Preg         3.845052\n",
       "Glu        120.894531\n",
       "BP          69.105469\n",
       "Skin        20.536458\n",
       "Ins         79.799479\n",
       "BMI         31.992578\n",
       "DPF          0.471876\n",
       "Age         33.240885\n",
       "Outcome      0.348958\n",
       "dtype: float64"
      ]
     },
     "execution_count": 113,
     "metadata": {},
     "output_type": "execute_result"
    }
   ],
   "source": [
    "# Assuming 'cleaned_df' is the dataframe after cleaning\n",
    "stats = DataStatistics(cleaned_df)\n",
    "\n",
    "stats.show_mean()"
   ]
  },
  {
   "cell_type": "code",
   "execution_count": 114,
   "id": "9f346ca6",
   "metadata": {},
   "outputs": [
    {
     "name": "stdout",
     "output_type": "stream",
     "text": [
      "\n",
      "Median of each column:\n"
     ]
    },
    {
     "data": {
      "text/plain": [
       "Preg         3.0000\n",
       "Glu        117.0000\n",
       "BP          72.0000\n",
       "Skin        23.0000\n",
       "Ins         30.5000\n",
       "BMI         32.0000\n",
       "DPF          0.3725\n",
       "Age         29.0000\n",
       "Outcome      0.0000\n",
       "dtype: float64"
      ]
     },
     "execution_count": 114,
     "metadata": {},
     "output_type": "execute_result"
    }
   ],
   "source": [
    "stats.show_median()"
   ]
  },
  {
   "cell_type": "code",
   "execution_count": 115,
   "id": "d96028cf",
   "metadata": {},
   "outputs": [
    {
     "name": "stdout",
     "output_type": "stream",
     "text": [
      "\n",
      "Mode of each column:\n"
     ]
    },
    {
     "data": {
      "text/html": [
       "<div>\n",
       "<style scoped>\n",
       "    .dataframe tbody tr th:only-of-type {\n",
       "        vertical-align: middle;\n",
       "    }\n",
       "\n",
       "    .dataframe tbody tr th {\n",
       "        vertical-align: top;\n",
       "    }\n",
       "\n",
       "    .dataframe thead th {\n",
       "        text-align: right;\n",
       "    }\n",
       "</style>\n",
       "<table border=\"1\" class=\"dataframe\">\n",
       "  <thead>\n",
       "    <tr style=\"text-align: right;\">\n",
       "      <th></th>\n",
       "      <th>Preg</th>\n",
       "      <th>Glu</th>\n",
       "      <th>BP</th>\n",
       "      <th>Skin</th>\n",
       "      <th>Ins</th>\n",
       "      <th>BMI</th>\n",
       "      <th>DPF</th>\n",
       "      <th>Age</th>\n",
       "      <th>Outcome</th>\n",
       "    </tr>\n",
       "  </thead>\n",
       "  <tbody>\n",
       "    <tr>\n",
       "      <th>0</th>\n",
       "      <td>1.0</td>\n",
       "      <td>99</td>\n",
       "      <td>70.0</td>\n",
       "      <td>0.0</td>\n",
       "      <td>0.0</td>\n",
       "      <td>32.0</td>\n",
       "      <td>0.254</td>\n",
       "      <td>22.0</td>\n",
       "      <td>0.0</td>\n",
       "    </tr>\n",
       "    <tr>\n",
       "      <th>1</th>\n",
       "      <td>NaN</td>\n",
       "      <td>100</td>\n",
       "      <td>NaN</td>\n",
       "      <td>NaN</td>\n",
       "      <td>NaN</td>\n",
       "      <td>NaN</td>\n",
       "      <td>0.258</td>\n",
       "      <td>NaN</td>\n",
       "      <td>NaN</td>\n",
       "    </tr>\n",
       "  </tbody>\n",
       "</table>\n",
       "</div>"
      ],
      "text/plain": [
       "   Preg  Glu    BP  Skin  Ins   BMI    DPF   Age  Outcome\n",
       "0   1.0   99  70.0   0.0  0.0  32.0  0.254  22.0      0.0\n",
       "1   NaN  100   NaN   NaN  NaN   NaN  0.258   NaN      NaN"
      ]
     },
     "execution_count": 115,
     "metadata": {},
     "output_type": "execute_result"
    }
   ],
   "source": [
    "stats.show_mode()"
   ]
  },
  {
   "cell_type": "code",
   "execution_count": 116,
   "id": "c1811d12",
   "metadata": {},
   "outputs": [
    {
     "name": "stdout",
     "output_type": "stream",
     "text": [
      "\n",
      "Maximum value in each column:\n"
     ]
    },
    {
     "data": {
      "text/plain": [
       "Preg        17.00\n",
       "Glu        199.00\n",
       "BP         122.00\n",
       "Skin        99.00\n",
       "Ins        846.00\n",
       "BMI         67.10\n",
       "DPF          2.42\n",
       "Age         81.00\n",
       "Outcome      1.00\n",
       "dtype: float64"
      ]
     },
     "execution_count": 116,
     "metadata": {},
     "output_type": "execute_result"
    }
   ],
   "source": [
    "stats.show_max()"
   ]
  },
  {
   "cell_type": "code",
   "execution_count": 117,
   "id": "50792ed2",
   "metadata": {},
   "outputs": [
    {
     "name": "stdout",
     "output_type": "stream",
     "text": [
      "\n",
      "Minimum value in each column:\n"
     ]
    },
    {
     "data": {
      "text/plain": [
       "Preg        0.000\n",
       "Glu         0.000\n",
       "BP          0.000\n",
       "Skin        0.000\n",
       "Ins         0.000\n",
       "BMI         0.000\n",
       "DPF         0.078\n",
       "Age        21.000\n",
       "Outcome     0.000\n",
       "dtype: float64"
      ]
     },
     "execution_count": 117,
     "metadata": {},
     "output_type": "execute_result"
    }
   ],
   "source": [
    "stats.show_min()"
   ]
  },
  {
   "cell_type": "code",
   "execution_count": null,
   "id": "24b55761",
   "metadata": {},
   "outputs": [
    {
     "name": "stdout",
     "output_type": "stream",
     "text": [
      "\n",
      "Standard Deviation of each column:\n"
     ]
    },
    {
     "data": {
      "text/plain": [
       "Preg         3.369578\n",
       "Glu         31.972618\n",
       "BP          19.355807\n",
       "Skin        15.952218\n",
       "Ins        115.244002\n",
       "BMI          7.884160\n",
       "DPF          0.331329\n",
       "Age         11.760232\n",
       "Outcome      0.476951\n",
       "dtype: float64"
      ]
     },
     "execution_count": 118,
     "metadata": {},
     "output_type": "execute_result"
    }
   ],
   "source": [
    "stats.show_std()"
   ]
  },
  {
   "cell_type": "code",
   "execution_count": 119,
   "id": "0aec71d2",
   "metadata": {},
   "outputs": [
    {
     "name": "stdout",
     "output_type": "stream",
     "text": [
      "\n",
      "Variance of each column:\n"
     ]
    },
    {
     "data": {
      "text/plain": [
       "Preg          11.354056\n",
       "Glu         1022.248314\n",
       "BP           374.647271\n",
       "Skin         254.473245\n",
       "Ins        13281.180078\n",
       "BMI           62.159984\n",
       "DPF            0.109779\n",
       "Age          138.303046\n",
       "Outcome        0.227483\n",
       "dtype: float64"
      ]
     },
     "execution_count": 119,
     "metadata": {},
     "output_type": "execute_result"
    }
   ],
   "source": [
    "stats.show_variance()"
   ]
  },
  {
   "cell_type": "code",
   "execution_count": 120,
   "id": "69eddfa8",
   "metadata": {},
   "outputs": [
    {
     "name": "stdout",
     "output_type": "stream",
     "text": [
      "\n",
      "Count of non-null values in each column:\n"
     ]
    },
    {
     "data": {
      "text/plain": [
       "Preg       768\n",
       "Glu        768\n",
       "BP         768\n",
       "Skin       768\n",
       "Ins        768\n",
       "BMI        768\n",
       "DPF        768\n",
       "Age        768\n",
       "Outcome    768\n",
       "dtype: int64"
      ]
     },
     "execution_count": 120,
     "metadata": {},
     "output_type": "execute_result"
    }
   ],
   "source": [
    "stats.show_count()"
   ]
  },
  {
   "cell_type": "markdown",
   "id": "13aeda31",
   "metadata": {},
   "source": [
    "# Exploratory Data Analysis: Univariate & Bivariate\n",
    "\n",
    "We define two separate classes to perform core EDA tasks:\n",
    "\n",
    "## 1. Univariate Analysis\n",
    "Focuses on a single feature to understand:\n",
    "- Its distribution\n",
    "- Central tendency\n",
    "- Spread\n",
    "- Number of unique values\n",
    "- Value counts for categorical-like features"
   ]
  },
  {
   "cell_type": "code",
   "execution_count": 121,
   "id": "1e65d917",
   "metadata": {},
   "outputs": [],
   "source": [
    "class UnivariateAnalysis:\n",
    "    def __init__(self, dataframe):\n",
    "        self.df = dataframe.copy()\n",
    "\n",
    "    def unique_counts(self, column):\n",
    "        print(f\"\\nUnique values in '{column}':\")\n",
    "        return self.df[column].nunique()\n",
    "\n",
    "    def value_counts(self, column):\n",
    "        print(f\"\\nValue counts in '{column}':\")\n",
    "        return self.df[column].value_counts()\n",
    "\n",
    "    def column_summary(self, column):\n",
    "        print(f\"\\nSummary statistics for '{column}':\")\n",
    "        return self.df[column].describe()\n",
    "\n",
    "    def check_skewness(self, column):\n",
    "        return f\"\\nSkewness of '{column}': {self.df[column].skew()}\"\n",
    "\n",
    "    def check_kurtosis(self, column):\n",
    "        return f\"\\nKurtosis of '{column}': {self.df[column].kurt()}\"\n"
   ]
  },
  {
   "cell_type": "code",
   "execution_count": 122,
   "id": "97bcee65",
   "metadata": {},
   "outputs": [
    {
     "name": "stdout",
     "output_type": "stream",
     "text": [
      "\n",
      "Unique values in 'Age':\n"
     ]
    },
    {
     "data": {
      "text/plain": [
       "52"
      ]
     },
     "execution_count": 122,
     "metadata": {},
     "output_type": "execute_result"
    }
   ],
   "source": [
    "# Univariate\n",
    "uni = UnivariateAnalysis(cleaned_df)\n",
    "uni.unique_counts('Age')"
   ]
  },
  {
   "cell_type": "code",
   "execution_count": 123,
   "id": "35889811",
   "metadata": {},
   "outputs": [
    {
     "name": "stdout",
     "output_type": "stream",
     "text": [
      "\n",
      "Value counts in 'Glu':\n"
     ]
    },
    {
     "data": {
      "text/plain": [
       "Glu\n",
       "99     17\n",
       "100    17\n",
       "111    14\n",
       "129    14\n",
       "125    14\n",
       "       ..\n",
       "191     1\n",
       "177     1\n",
       "44      1\n",
       "62      1\n",
       "190     1\n",
       "Name: count, Length: 136, dtype: int64"
      ]
     },
     "execution_count": 123,
     "metadata": {},
     "output_type": "execute_result"
    }
   ],
   "source": [
    "uni.value_counts('Glu')"
   ]
  },
  {
   "cell_type": "code",
   "execution_count": 124,
   "id": "43a0276c",
   "metadata": {},
   "outputs": [
    {
     "name": "stdout",
     "output_type": "stream",
     "text": [
      "\n",
      "Summary statistics for 'BMI':\n"
     ]
    },
    {
     "data": {
      "text/plain": [
       "count    768.000000\n",
       "mean      31.992578\n",
       "std        7.884160\n",
       "min        0.000000\n",
       "25%       27.300000\n",
       "50%       32.000000\n",
       "75%       36.600000\n",
       "max       67.100000\n",
       "Name: BMI, dtype: float64"
      ]
     },
     "execution_count": 124,
     "metadata": {},
     "output_type": "execute_result"
    }
   ],
   "source": [
    "uni.column_summary('BMI')"
   ]
  },
  {
   "cell_type": "code",
   "execution_count": null,
   "id": "0576c92d",
   "metadata": {},
   "outputs": [
    {
     "data": {
      "text/plain": [
       "\"\\nSkewness of 'BP': -1.8436079833551302\""
      ]
     },
     "execution_count": 125,
     "metadata": {},
     "output_type": "execute_result"
    }
   ],
   "source": [
    "uni.check_skewness('BP')"
   ]
  },
  {
   "cell_type": "code",
   "execution_count": 126,
   "id": "0ced9990",
   "metadata": {},
   "outputs": [
    {
     "data": {
      "text/plain": [
       "\"\\nKurtosis of 'Ins': 7.2142595543487715\""
      ]
     },
     "execution_count": 126,
     "metadata": {},
     "output_type": "execute_result"
    }
   ],
   "source": [
    "uni.check_kurtosis('Ins')"
   ]
  },
  {
   "cell_type": "markdown",
   "id": "bdbade7a",
   "metadata": {},
   "source": [
    "## 2. Bivariate Analysis\n",
    "Focuses on the relationship between two variables:\n",
    "- Correlation\n",
    "- Covariance\n",
    "- Group-wise statistics (mean, count, etc.)\n",
    "- Crosstab for categorical combinations\n",
    "\n",
    "These classes help break down the dataset into understandable chunks so that patterns can emerge before we jump into modeling."
   ]
  },
  {
   "cell_type": "code",
   "execution_count": 127,
   "id": "fec161d6",
   "metadata": {},
   "outputs": [],
   "source": [
    "class BivariateAnalysis:\n",
    "    def __init__(self, dataframe):\n",
    "        self.df = dataframe.copy()\n",
    "\n",
    "    def correlation_matrix(self):\n",
    "        print(\"\\nCorrelation matrix:\")\n",
    "        print(self.df.corr())\n",
    "\n",
    "    def covariance_matrix(self):\n",
    "        print(\"\\nCovariance matrix:\")\n",
    "        print(self.df.cov())\n",
    "\n",
    "    def group_mean_by_target(self, target_col):\n",
    "        print(f\"\\nMean of each feature grouped by '{target_col}':\")\n",
    "        print(self.df.groupby(target_col).mean())\n",
    "\n",
    "    def group_count_by_target(self, target_col):\n",
    "        print(f\"\\nCount of entries grouped by '{target_col}':\")\n",
    "        print(self.df.groupby(target_col).count())\n",
    "\n",
    "    def crosstab_two_columns(self, col1, col2):\n",
    "        print(f\"\\nCrosstab between '{col1}' and '{col2}':\")\n",
    "        print(pd.crosstab(self.df[col1], self.df[col2]))\n"
   ]
  },
  {
   "cell_type": "code",
   "execution_count": null,
   "id": "c93b379c",
   "metadata": {},
   "outputs": [
    {
     "name": "stdout",
     "output_type": "stream",
     "text": [
      "\n",
      "Correlation matrix:\n",
      "             Preg       Glu        BP      Skin       Ins       BMI       DPF       Age   Outcome\n",
      "Preg     1.000000  0.129459  0.141282 -0.081672 -0.073535  0.017683 -0.033523  0.544341  0.221898\n",
      "Glu      0.129459  1.000000  0.152590  0.057328  0.331357  0.221071  0.137337  0.263514  0.466581\n",
      "BP       0.141282  0.152590  1.000000  0.207371  0.088933  0.281805  0.041265  0.239528  0.065068\n",
      "Skin    -0.081672  0.057328  0.207371  1.000000  0.436783  0.392573  0.183928 -0.113970  0.074752\n",
      "Ins     -0.073535  0.331357  0.088933  0.436783  1.000000  0.197859  0.185071 -0.042163  0.130548\n",
      "BMI      0.017683  0.221071  0.281805  0.392573  0.197859  1.000000  0.140647  0.036242  0.292695\n",
      "DPF     -0.033523  0.137337  0.041265  0.183928  0.185071  0.140647  1.000000  0.033561  0.173844\n",
      "Age      0.544341  0.263514  0.239528 -0.113970 -0.042163  0.036242  0.033561  1.000000  0.238356\n",
      "Outcome  0.221898  0.466581  0.065068  0.074752  0.130548  0.292695  0.173844  0.238356  1.000000\n"
     ]
    }
   ],
   "source": [
    "# Bivariate\n",
    "bi = BivariateAnalysis(cleaned_df)  \n",
    "bi.correlation_matrix()"
   ]
  },
  {
   "cell_type": "code",
   "execution_count": null,
   "id": "b0b426cd",
   "metadata": {},
   "outputs": [
    {
     "name": "stdout",
     "output_type": "stream",
     "text": [
      "\n",
      "Covariance matrix:\n",
      "              Preg          Glu          BP        Skin           Ins         BMI       DPF         Age   Outcome\n",
      "Preg     11.354056    13.947131    9.214538   -4.390041    -28.555231    0.469774 -0.037426   21.570620  0.356618\n",
      "Glu      13.947131  1022.248314   94.430956   29.239183   1220.935799   55.726987  1.454875   99.082805  7.115079\n",
      "BP        9.214538    94.430956  374.647271   64.029396    198.378412   43.004695  0.264638   54.523453  0.600697\n",
      "Skin     -4.390041    29.239183   64.029396  254.473245    802.979941   49.373869  0.972136  -21.381023  0.568747\n",
      "Ins     -28.555231  1220.935799  198.378412  802.979941  13281.180078  179.775172  7.066681  -57.143290  7.175671\n",
      "BMI       0.469774    55.726987   43.004695   49.373869    179.775172   62.159984  0.367405    3.360330  1.100638\n",
      "DPF      -0.037426     1.454875    0.264638    0.972136      7.066681    0.367405  0.109779    0.130772  0.027472\n",
      "Age      21.570620    99.082805   54.523453  -21.381023    -57.143290    3.360330  0.130772  138.303046  1.336953\n",
      "Outcome   0.356618     7.115079    0.600697    0.568747      7.175671    1.100638  0.027472    1.336953  0.227483\n"
     ]
    }
   ],
   "source": [
    "bi.covariance_matrix()  "
   ]
  },
  {
   "cell_type": "code",
   "execution_count": 130,
   "id": "1ad1547d",
   "metadata": {},
   "outputs": [
    {
     "name": "stdout",
     "output_type": "stream",
     "text": [
      "\n",
      "Mean of each feature grouped by 'Outcome':\n",
      "             Preg         Glu         BP       Skin         Ins        BMI       DPF        Age\n",
      "Outcome                                                                                        \n",
      "0        3.298000  109.980000  68.184000  19.664000   68.792000  30.304200  0.429734  31.190000\n",
      "1        4.865672  141.257463  70.824627  22.164179  100.335821  35.142537  0.550500  37.067164\n"
     ]
    }
   ],
   "source": [
    "bi.group_mean_by_target('Outcome')"
   ]
  },
  {
   "cell_type": "code",
   "execution_count": 131,
   "id": "6c92bb8d",
   "metadata": {},
   "outputs": [
    {
     "name": "stdout",
     "output_type": "stream",
     "text": [
      "\n",
      "Count of entries grouped by 'Outcome':\n",
      "         Preg  Glu   BP  Skin  Ins  BMI  DPF  Age\n",
      "Outcome                                          \n",
      "0         500  500  500   500  500  500  500  500\n",
      "1         268  268  268   268  268  268  268  268\n"
     ]
    }
   ],
   "source": [
    "bi.group_count_by_target('Outcome')"
   ]
  },
  {
   "cell_type": "code",
   "execution_count": 132,
   "id": "2640c040",
   "metadata": {},
   "outputs": [
    {
     "name": "stdout",
     "output_type": "stream",
     "text": [
      "\n",
      "Crosstab between 'Preg' and 'Outcome':\n",
      "Outcome    0   1\n",
      "Preg            \n",
      "0         73  38\n",
      "1        106  29\n",
      "2         84  19\n",
      "3         48  27\n",
      "4         45  23\n",
      "5         36  21\n",
      "6         34  16\n",
      "7         20  25\n",
      "8         16  22\n",
      "9         10  18\n",
      "10        14  10\n",
      "11         4   7\n",
      "12         5   4\n",
      "13         5   5\n",
      "14         0   2\n",
      "15         0   1\n",
      "17         0   1\n"
     ]
    }
   ],
   "source": [
    "bi.crosstab_two_columns('Preg', 'Outcome')"
   ]
  },
  {
   "cell_type": "markdown",
   "id": "8bbcc24c",
   "metadata": {},
   "source": [
    "# Univariate Data Visualization\n",
    "\n",
    "These plots explore the **distribution and characteristics of individual columns** (features).\n",
    "\n",
    "### Plots Covered:\n",
    "1. Histogram - Frequency distribution\n",
    "2. Boxplot - Detect outliers and spread\n",
    "3. KDE Plot - Smoothed version of histogram\n",
    "4. Countplot - For categorical variables (like target column)\n"
   ]
  },
  {
   "cell_type": "code",
   "execution_count": null,
   "id": "7a8307e5",
   "metadata": {},
   "outputs": [],
   "source": [
    "class UnivariatePlots:\n",
    "    def __init__(self, dataframe):\n",
    "        self.df = dataframe.copy()\n",
    "\n",
    "    def plot_histogram(self, column, bins=30, color='skyblue', edgecolor='black', figsize=(8, 4)):\n",
    "        print(f\"\\nHistogram for '{column}'\")\n",
    "        plt.figure(figsize=figsize)\n",
    "        plt.hist(self.df[column], bins=bins, color=color, edgecolor=edgecolor)\n",
    "        plt.title(f'Histogram of {column}')\n",
    "        plt.xlabel(column)\n",
    "        plt.ylabel('Frequency')\n",
    "        plt.tight_layout()\n",
    "        plt.show()\n",
    "\n",
    "    def plot_boxplot(self, column, color='salmon', figsize=(6, 4), orient='v'):\n",
    "        print(f\"\\nBoxplot for '{column}'\")\n",
    "        plt.figure(figsize=figsize)\n",
    "        if orient == 'v':\n",
    "            sns.boxplot(y=self.df[column], color=color)\n",
    "        else:\n",
    "            sns.boxplot(x=self.df[column], color=color)\n",
    "        plt.title(f'Boxplot of {column}')\n",
    "        plt.tight_layout()\n",
    "        plt.show()\n",
    "\n",
    "    def plot_kde(self, column, color='purple', shade=True, figsize=(8, 4)):\n",
    "        print(f\"\\nKDE Plot for '{column}'\")\n",
    "        plt.figure(figsize=figsize)\n",
    "        sns.kdeplot(self.df[column], fill=shade, color=color)\n",
    "        plt.title(f'KDE Plot of {column}')\n",
    "        plt.xlabel(column)\n",
    "        plt.tight_layout()\n",
    "        plt.show()\n",
    "\n",
    "    def plot_countplot(self, column, palette='Set2', figsize=(6, 4), orient='v'):\n",
    "        print(f\"\\nCountplot for '{column}'\")\n",
    "        plt.figure(figsize=figsize)\n",
    "        if orient == 'v':\n",
    "            sns.countplot(x=self.df[column], palette=palette)\n",
    "        else:\n",
    "            sns.countplot(y=self.df[column], palette=palette)\n",
    "        plt.title(f'Countplot of {column}')\n",
    "        plt.tight_layout()\n",
    "        plt.show()\n",
    "\n"
   ]
  },
  {
   "cell_type": "markdown",
   "id": "92b041eb",
   "metadata": {},
   "source": [
    "### _**Glucose Value Distribution**_\n",
    "\n",
    "**This histogram shows the frequency distribution of glucose levels among the patients**.\n",
    "**Most values are concentrated around 100–150, indicating that many individuals in the dataset have borderline or elevated glucose levels.**\n",
    "**It highlights the central tendency and possible skewness in glucose levels.**\n"
   ]
  },
  {
   "cell_type": "code",
   "execution_count": 134,
   "id": "1e24cdfc",
   "metadata": {},
   "outputs": [
    {
     "name": "stdout",
     "output_type": "stream",
     "text": [
      "\n",
      "Histogram for 'Glu'\n"
     ]
    },
    {
     "data": {
      "image/png": "[encoded data removed]",
      "text/plain": [
       "<Figure size 1000x500 with 1 Axes>"
      ]
     },
     "metadata": {},
     "output_type": "display_data"
    }
   ],
   "source": [
    "plotter = UnivariatePlots(cleaned_df)\n",
    "\n",
    "# Histogram with custom color and bins\n",
    "plotter.plot_histogram(\"Glu\", bins=20, color=\"orange\", edgecolor=\"gray\", figsize=(10, 5))"
   ]
  },
  {
   "cell_type": "markdown",
   "id": "dddf4b3e",
   "metadata": {},
   "source": [
    "### **Boxplot horizontal**\n",
    "\n",
    "**This boxplot of BMI (Body Mass Index) reveals the spread, median, and outliers in the BMI distribution.**\n",
    "**The presence of outliers on the higher side suggests some individuals have significantly high BMI, potentially indicating obesity.**"
   ]
  },
  {
   "cell_type": "code",
   "execution_count": 135,
   "id": "d5ff2ce5",
   "metadata": {},
   "outputs": [
    {
     "name": "stdout",
     "output_type": "stream",
     "text": [
      "\n",
      "Boxplot for 'BMI'\n"
     ]
    },
    {
     "data": {
      "image/png": "[encoded data removed]",
      "text/plain": [
       "<Figure size 800x400 with 1 Axes>"
      ]
     },
     "metadata": {},
     "output_type": "display_data"
    }
   ],
   "source": [
    "# Boxplot horizontal\n",
    "plotter.plot_boxplot(\"BMI\", color=\"green\", figsize=(8, 4), orient='h')\n"
   ]
  },
  {
   "cell_type": "markdown",
   "id": "fcfe0400",
   "metadata": {},
   "source": [
    "### **KDE Plot with custom shade color**\n",
    "\n",
    "**This KDE (Kernel Density Estimate) plot shows a smoothed version of the age distribution.**\n",
    "**It helps us understand how age is distributed in the population, with most patients falling between the ages of 20 and 50.**"
   ]
  },
  {
   "cell_type": "code",
   "execution_count": 136,
   "id": "8367bde5",
   "metadata": {},
   "outputs": [
    {
     "name": "stdout",
     "output_type": "stream",
     "text": [
      "\n",
      "KDE Plot for 'Age'\n"
     ]
    },
    {
     "data": {
      "image/png": "[encoded data removed]",
      "text/plain": [
       "<Figure size 1000x500 with 1 Axes>"
      ]
     },
     "metadata": {},
     "output_type": "display_data"
    }
   ],
   "source": [
    "# KDE Plot with custom shade color\n",
    "plotter.plot_kde(\"Age\", color=\"navy\", shade=True, figsize=(10, 5))"
   ]
  },
  {
   "cell_type": "markdown",
   "id": "58e02269",
   "metadata": {},
   "source": [
    "### _**Class Distribution (Diabetes Outcome)**_\n",
    "\n",
    "**This plot shows the number of diabetic vs non-diabetic patients. A balanced dataset helps ensure that the model does not favor one class over the other.**\n"
   ]
  },
  {
   "cell_type": "code",
   "execution_count": null,
   "id": "0ef48d1c",
   "metadata": {},
   "outputs": [
    {
     "name": "stdout",
     "output_type": "stream",
     "text": [
      "\n",
      "Countplot for 'Outcome'\n"
     ]
    },
    {
     "name": "stderr",
     "output_type": "stream",
     "text": [
      "C:\\Users\\MY TRADERS\\AppData\\Local\\Temp\\ipykernel_15736\\2634174423.py:39: FutureWarning: \n",
      "\n",
      "Passing `palette` without assigning `hue` is deprecated and will be removed in v0.14.0. Assign the `x` variable to `hue` and set `legend=False` for the same effect.\n",
      "\n",
      "  sns.countplot(x=self.df[column], palette=palette)\n"
     ]
    },
    {
     "data": {
      "image/png": "[encoded data removed]",
      "text/plain": [
       "<Figure size 700x400 with 1 Axes>"
      ]
     },
     "metadata": {},
     "output_type": "display_data"
    }
   ],
   "source": [
    "# Countplot for Outcome (categorical)\n",
    "plotter.plot_countplot(\"Outcome\", palette=\"pastel\", figsize=(7, 4))"
   ]
  },
  {
   "cell_type": "markdown",
   "id": "a043da8d",
   "metadata": {},
   "source": [
    "# Bivariate Data Visualization\n",
    "\n",
    "These plots explore the **relationship between two features**.\n",
    "\n",
    "### Plots Covered:\n",
    "1. Scatter Plot - Numerical vs Numerical\n",
    "2. Heatmap - Correlation matrix in visual form\n",
    "3. Boxplot by Category - Spread across classes\n",
    "4. Pairplot - Multiple pairwise scatterplots\n"
   ]
  },
  {
   "cell_type": "code",
   "execution_count": 138,
   "id": "b7297290",
   "metadata": {},
   "outputs": [],
   "source": [
    "class BivariatePlots:\n",
    "    def __init__(self, dataframe):\n",
    "        self.df = dataframe.copy()\n",
    "\n",
    "    def scatter_plot(self, col1, col2, hue='Outcome', palette='coolwarm', figsize=(8, 5)):\n",
    "        print(f\"\\nScatter Plot: '{col1}' vs '{col2}'\")\n",
    "        plt.figure(figsize=figsize)\n",
    "        sns.scatterplot(x=self.df[col1], y=self.df[col2], hue=self.df[hue], palette=palette)\n",
    "        plt.title(f'Scatter Plot: {col1} vs {col2}')\n",
    "        plt.tight_layout()\n",
    "        plt.show()\n",
    "\n",
    "    def correlation_heatmap(self, annot=True, cmap='coolwarm', figsize=(10, 8)):\n",
    "        print(\"\\nCorrelation Heatmap\")\n",
    "        plt.figure(figsize=figsize)\n",
    "        sns.heatmap(self.df.corr(), annot=annot, cmap=cmap, fmt=\".2f\", square=True)\n",
    "        plt.title(\"Correlation Heatmap\")\n",
    "        plt.tight_layout()\n",
    "        plt.show()\n",
    "\n",
    "    def boxplot_by_category(self, numerical_col, category_col='Outcome', palette='pastel', figsize=(7, 5)):\n",
    "        print(f\"\\nBoxplot: '{numerical_col}' grouped by '{category_col}'\")\n",
    "        plt.figure(figsize=figsize)\n",
    "        sns.boxplot(x=self.df[category_col], y=self.df[numerical_col], palette=palette)\n",
    "        plt.title(f'Boxplot of {numerical_col} by {category_col}')\n",
    "        plt.tight_layout()\n",
    "        plt.show()\n",
    "\n",
    "    def pairplot(self, columns=None, hue='Outcome', palette='husl'):\n",
    "        print(f\"\\nPairplot of selected features\")\n",
    "        if columns:\n",
    "            sns.pairplot(self.df[columns], hue=hue, palette=palette)\n",
    "        else:\n",
    "            sns.pairplot(self.df, hue=hue, palette=palette)\n",
    "        plt.tight_layout()\n",
    "        plt.show()\n"
   ]
  },
  {
   "cell_type": "markdown",
   "id": "300db894",
   "metadata": {},
   "source": [
    "### **Custom scatter plot**\n",
    "\n",
    "**This scatter plot shows the relationship between Glucose and Insulin levels.**\n",
    "**Points are colored by the Outcome column.**\n",
    "**We can see that diabetic patients (Outcome=1) tend to have higher glucose and insulin levels, forming a visible cluster.**"
   ]
  },
  {
   "cell_type": "code",
   "execution_count": 139,
   "id": "6f5740d8",
   "metadata": {},
   "outputs": [
    {
     "name": "stdout",
     "output_type": "stream",
     "text": [
      "\n",
      "Scatter Plot: 'Glu' vs 'Ins'\n"
     ]
    },
    {
     "data": {
      "image/png": "[encoded data removed]",
      "text/plain": [
       "<Figure size 1000x600 with 1 Axes>"
      ]
     },
     "metadata": {},
     "output_type": "display_data"
    }
   ],
   "source": [
    "plotter = BivariatePlots(cleaned_df)\n",
    "\n",
    "# Custom scatter plot\n",
    "plotter.scatter_plot(\"Glu\", \"Ins\", palette='viridis', figsize=(10, 6))"
   ]
  },
  {
   "cell_type": "markdown",
   "id": "e053ea47",
   "metadata": {},
   "source": [
    "### _**Correlation Matrix**_\n",
    "\n",
    "**This heatmap shows how each feature correlates with others. Features like Glucose and BMI have a strong positive correlation with the Outcome (diabetes), which makes them important predictors.**\n"
   ]
  },
  {
   "cell_type": "code",
   "execution_count": 140,
   "id": "081ac3fb",
   "metadata": {},
   "outputs": [
    {
     "name": "stdout",
     "output_type": "stream",
     "text": [
      "\n",
      "Correlation Heatmap\n"
     ]
    },
    {
     "data": {
      "image/png": "[encoded data removed]",
      "text/plain": [
       "<Figure size 1200x1000 with 2 Axes>"
      ]
     },
     "metadata": {},
     "output_type": "display_data"
    }
   ],
   "source": [
    "# 🔸 Correlation heatmap with different cmap\n",
    "plotter.correlation_heatmap(cmap='magma', figsize=(12, 10))"
   ]
  },
  {
   "cell_type": "markdown",
   "id": "a8cfced0",
   "metadata": {},
   "source": [
    "### **BMI vs Outcome**\n",
    "\n",
    "**This boxplot shows that diabetic patients tend to have a higher BMI than non-diabetics. This supports the assumption that BMI is an important feature for prediction.**\n"
   ]
  },
  {
   "cell_type": "code",
   "execution_count": null,
   "id": "511cf02c",
   "metadata": {},
   "outputs": [
    {
     "name": "stdout",
     "output_type": "stream",
     "text": [
      "\n",
      "Boxplot: 'BMI' grouped by 'Outcome'\n"
     ]
    },
    {
     "name": "stderr",
     "output_type": "stream",
     "text": [
      "C:\\Users\\MY TRADERS\\AppData\\Local\\Temp\\ipykernel_15736\\1175187027.py:24: FutureWarning: \n",
      "\n",
      "Passing `palette` without assigning `hue` is deprecated and will be removed in v0.14.0. Assign the `x` variable to `hue` and set `legend=False` for the same effect.\n",
      "\n",
      "  sns.boxplot(x=self.df[category_col], y=self.df[numerical_col], palette=palette)\n"
     ]
    },
    {
     "data": {
      "image/png": "[encoded data removed]",
      "text/plain": [
       "<Figure size 800x500 with 1 Axes>"
      ]
     },
     "metadata": {},
     "output_type": "display_data"
    }
   ],
   "source": [
    "# 🔸 Boxplot with custom size and palette\n",
    "plotter.boxplot_by_category(\"BMI\", palette=\"spring\", figsize=(8, 5))\n"
   ]
  },
  {
   "cell_type": "markdown",
   "id": "84b64473",
   "metadata": {},
   "source": [
    "# Machine Learning Workflow\n",
    "\n",
    "Now we move to training the model. This part includes:\n",
    "\n",
    "1. **Splitting the Data**  \n",
    "   - Train-test split using `sklearn.model_selection`\n",
    "\n",
    "2. **Training the Model**  \n",
    "   - We use `Logistic Regression` for binary classification (`Outcome` column)\n",
    "\n",
    "3. **Evaluating the Model**  \n",
    "   - Accuracy, Confusion Matrix, Classification Report\n",
    "\n",
    "4. **Predicting with the Model**  \n",
    "   - Using model to predict new or test data\n",
    "\n",
    "Every block is wrapped in a separate class to keep things clean and modular.\n"
   ]
  },
  {
   "cell_type": "code",
   "execution_count": 142,
   "id": "e5714d96",
   "metadata": {},
   "outputs": [],
   "source": [
    "class DataSplitter:\n",
    "    def __init__(self, dataframe, target_column):\n",
    "        self.df = dataframe\n",
    "        self.target = target_column\n",
    "\n",
    "    def split_data(self, test_size=0.2, random_state=42):\n",
    "        X = self.df.drop(self.target, axis=1)\n",
    "        y = self.df[self.target]\n",
    "        X_train, X_test, y_train, y_test = train_test_split(X, y, test_size=test_size, random_state=random_state)\n",
    "        return X_train, X_test, y_train, y_test\n",
    "\n",
    "class ModelTrainer:\n",
    "    def __init__(self):\n",
    "        self.model = LogisticRegression(max_iter=1000)\n",
    "\n",
    "    def train_model(self, X_train, y_train):\n",
    "        self.model.fit(X_train, y_train)\n",
    "class ModelEvaluator:\n",
    "    def __init__(self, model, X_test, y_test):\n",
    "        self.model = model\n",
    "        self.X_test = X_test\n",
    "        self.y_test = y_test\n",
    "        self.predictions = self.model.predict(self.X_test)\n",
    "\n",
    "    def show_prediction(self):\n",
    "        return self.predictions\n",
    "    \n",
    "    def show_accuracy(self):\n",
    "        print(\"\\nAccuracy Score:\")\n",
    "        return accuracy_score(self.y_test, self.predictions)\n",
    "    \n",
    "    def show_confusion_matrix(self):\n",
    "        print(\"\\nConfusion Matrix:\")\n",
    "        return confusion_matrix(self.y_test, self.predictions)\n",
    "    \n",
    "    def show_classification_report(self):\n",
    "        print(\"\\nClassification Report:\")\n",
    "        return classification_report(self.y_test, self.predictions)\n",
    "\n",
    "\n",
    "class Predictor:\n",
    "    def __init__(self, model):\n",
    "        self.model = model\n",
    "\n",
    "    def predict(self, new_data):\n",
    "        prediction = self.model.predict(new_data)\n",
    "        return prediction\n"
   ]
  },
  {
   "cell_type": "code",
   "execution_count": 143,
   "id": "a69f272c",
   "metadata": {},
   "outputs": [
    {
     "data": {
      "text/plain": [
       "(     Preg  Glu   BP  Skin  Ins   BMI    DPF  Age\n",
       " 60      2   84    0     0    0   0.0  0.304   21\n",
       " 618     9  112   82    24    0  28.2  1.282   50\n",
       " 346     1  139   46    19   83  28.7  0.654   22\n",
       " 294     0  161   50     0    0  21.9  0.254   65\n",
       " 231     6  134   80    37  370  46.2  0.238   46\n",
       " ..    ...  ...  ...   ...  ...   ...    ...  ...\n",
       " 71      5  139   64    35  140  28.6  0.411   26\n",
       " 106     1   96  122     0    0  22.4  0.207   27\n",
       " 270    10  101   86    37    0  45.6  1.136   38\n",
       " 435     0  141    0     0    0  42.4  0.205   29\n",
       " 102     0  125   96     0    0  22.5  0.262   21\n",
       " \n",
       " [614 rows x 8 columns],\n",
       "      Preg  Glu  BP  Skin  Ins   BMI    DPF  Age\n",
       " 668     6   98  58    33  190  34.0  0.430   43\n",
       " 324     2  112  75    32    0  35.7  0.148   21\n",
       " 624     2  108  64     0    0  30.8  0.158   21\n",
       " 690     8  107  80     0    0  24.6  0.856   34\n",
       " 473     7  136  90     0    0  29.9  0.210   50\n",
       " ..    ...  ...  ..   ...  ...   ...    ...  ...\n",
       " 355     9  165  88     0    0  30.4  0.302   49\n",
       " 534     1   77  56    30   56  33.3  1.251   24\n",
       " 344     8   95  72     0    0  36.8  0.485   57\n",
       " 296     2  146  70    38  360  28.0  0.337   29\n",
       " 462     8   74  70    40   49  35.3  0.705   39\n",
       " \n",
       " [154 rows x 8 columns],\n",
       " 60     0\n",
       " 618    1\n",
       " 346    0\n",
       " 294    0\n",
       " 231    1\n",
       "       ..\n",
       " 71     0\n",
       " 106    0\n",
       " 270    1\n",
       " 435    1\n",
       " 102    0\n",
       " Name: Outcome, Length: 614, dtype: int64,\n",
       " 668    0\n",
       " 324    0\n",
       " 624    0\n",
       " 690    0\n",
       " 473    0\n",
       "       ..\n",
       " 355    1\n",
       " 534    0\n",
       " 344    0\n",
       " 296    1\n",
       " 462    0\n",
       " Name: Outcome, Length: 154, dtype: int64)"
      ]
     },
     "execution_count": 143,
     "metadata": {},
     "output_type": "execute_result"
    }
   ],
   "source": [
    "# Splitting the data\n",
    "splitter = DataSplitter(cleaned_df, target_column='Outcome')\n",
    "X_train, X_test, y_train, y_test = splitter.split_data(test_size=0.2, random_state=42)\n",
    "X_train, X_test, y_train, y_test"
   ]
  },
  {
   "cell_type": "code",
   "execution_count": 144,
   "id": "8bd4c229",
   "metadata": {},
   "outputs": [],
   "source": [
    "# Step 2: Training the model\n",
    "trainer = ModelTrainer()\n",
    "trainer.train_model(X_train, y_train)\n"
   ]
  },
  {
   "cell_type": "code",
   "execution_count": 145,
   "id": "21a1e71e",
   "metadata": {},
   "outputs": [
    {
     "data": {
      "text/plain": [
       "<__main__.ModelEvaluator at 0x173a80ab380>"
      ]
     },
     "execution_count": 145,
     "metadata": {},
     "output_type": "execute_result"
    }
   ],
   "source": [
    "# Evaluating the model\n",
    "evaluator = ModelEvaluator(trainer.model, X_test, y_test)\n",
    "evaluator\n"
   ]
  },
  {
   "cell_type": "code",
   "execution_count": 146,
   "id": "21c77a36",
   "metadata": {},
   "outputs": [
    {
     "data": {
      "text/plain": [
       "array([0, 0, 0, 0, 0, 0, 0, 1, 1, 1, 0, 1, 0, 0, 0, 0, 0, 0, 1, 1, 0, 0,\n",
       "       1, 0, 1, 1, 0, 0, 0, 0, 1, 1, 1, 1, 1, 1, 1, 0, 1, 1, 0, 1, 1, 0,\n",
       "       0, 1, 1, 0, 0, 1, 0, 1, 1, 0, 0, 0, 1, 0, 0, 1, 1, 0, 0, 0, 0, 1,\n",
       "       0, 1, 0, 1, 1, 0, 0, 0, 0, 1, 0, 0, 0, 0, 1, 0, 0, 0, 0, 1, 1, 0,\n",
       "       0, 0, 0, 0, 0, 1, 1, 1, 0, 0, 1, 0, 1, 0, 1, 1, 1, 0, 0, 1, 0, 1,\n",
       "       0, 0, 0, 1, 0, 0, 1, 0, 0, 1, 0, 0, 0, 0, 0, 0, 0, 1, 1, 1, 1, 1,\n",
       "       0, 0, 1, 0, 0, 1, 1, 0, 0, 0, 0, 0, 0, 0, 0, 0, 0, 1, 0, 0, 0, 0],\n",
       "      dtype=int64)"
      ]
     },
     "execution_count": 146,
     "metadata": {},
     "output_type": "execute_result"
    }
   ],
   "source": [
    "# Show predictions\n",
    "predictions = evaluator.show_prediction()\n",
    "predictions"
   ]
  },
  {
   "cell_type": "code",
   "execution_count": 147,
   "id": "651cb50d",
   "metadata": {},
   "outputs": [
    {
     "name": "stdout",
     "output_type": "stream",
     "text": [
      "\n",
      "Accuracy Score:\n",
      "0.7467532467532467\n"
     ]
    }
   ],
   "source": [
    "# Accuracy score\n",
    "accuracy = evaluator.show_accuracy()\n",
    "print(accuracy)\n"
   ]
  },
  {
   "cell_type": "code",
   "execution_count": null,
   "id": "1c887d42",
   "metadata": {},
   "outputs": [
    {
     "name": "stdout",
     "output_type": "stream",
     "text": [
      "\n",
      "Classification Report:\n"
     ]
    },
    {
     "data": {
      "text/plain": [
       "'              precision    recall  f1-score   support\\n\\n           0       0.81      0.79      0.80        99\\n           1       0.64      0.67      0.65        55\\n\\n    accuracy                           0.75       154\\n   macro avg       0.73      0.73      0.73       154\\nweighted avg       0.75      0.75      0.75       154\\n'"
      ]
     },
     "execution_count": 148,
     "metadata": {},
     "output_type": "execute_result"
    }
   ],
   "source": [
    "\n",
    "evaluator.show_classification_report()"
   ]
  },
  {
   "cell_type": "code",
   "execution_count": 149,
   "id": "3d83558f",
   "metadata": {},
   "outputs": [
    {
     "name": "stdout",
     "output_type": "stream",
     "text": [
      "\n",
      "Confusion Matrix:\n"
     ]
    },
    {
     "data": {
      "text/plain": [
       "array([[78, 21],\n",
       "       [18, 37]], dtype=int64)"
      ]
     },
     "execution_count": 149,
     "metadata": {},
     "output_type": "execute_result"
    }
   ],
   "source": [
    "# Confusion matrix\n",
    "evaluator.show_confusion_matrix()\n"
   ]
  },
  {
   "cell_type": "code",
   "execution_count": 150,
   "id": "086c3566",
   "metadata": {},
   "outputs": [],
   "source": [
    "# 4. Predict on new/test data (Optional)\n",
    "\n",
    "predictor = Predictor(trainer.model)\n",
    "\n"
   ]
  },
  {
   "cell_type": "code",
   "execution_count": 151,
   "id": "0c93ae22",
   "metadata": {},
   "outputs": [
    {
     "name": "stdout",
     "output_type": "stream",
     "text": [
      "Predicted Outcome: Not Diabetic\n"
     ]
    }
   ],
   "source": [
    "\n",
    "new_data = pd.DataFrame({\n",
    "    'Preg': [2],\n",
    "    'Glu': [130],\n",
    "    'BP': [80],\n",
    "    'Skin': [25],\n",
    "    'Ins': [100],\n",
    "    'BMI': [30.5],\n",
    "    'DPF': [0.4],\n",
    "    'Age': [35]\n",
    "})\n",
    "\n",
    "# Prediction (0 = No Diabetes, 1 = Diabetes)\n",
    "result = predictor.predict(new_data)\n",
    "print(\"Predicted Outcome:\", \"Diabetic\" if result[0] == 1 else \"Not Diabetic\")\n"
   ]
  },
  {
   "cell_type": "markdown",
   "id": "22ea1bc2",
   "metadata": {},
   "source": [
    "# Saving and Loading Trained Model with Pickle\n",
    "\n",
    "We use the `pickle` library to save the trained ML model into a `.pkl` file.\n",
    "This allows us to reuse the model without retraining.\n",
    "\n",
    "### Why Use Pickle?\n",
    "- Avoids retraining\n",
    "- Good for deployment\n",
    "- Makes model portable\n",
    "\n",
    "The `PickleHandler` class has methods to save and load the model.\n"
   ]
  },
  {
   "cell_type": "code",
   "execution_count": null,
   "id": "5bd610c4",
   "metadata": {},
   "outputs": [],
   "source": [
    "class PickleHandler:\n",
    "    def __init__(self, filepath='diabetes_model.pkl'):\n",
    "        self.filepath = filepath\n",
    "\n",
    "    def save_model(self, model):\n",
    "        with open(self.filepath, 'wb') as file:\n",
    "            pickle.dump(model, file)\n",
    "        print(f\"✅ Model saved to '{self.filepath}' successfully.\")\n",
    "\n",
    "    def load_model(self):\n",
    "        with open(self.filepath, 'rb') as file:\n",
    "            model = pickle.load(file)\n",
    "        print(f\"✅ Model loaded from '{self.filepath}' successfully.\")\n",
    "        return model\n",
    "\n"
   ]
  },
  {
   "cell_type": "code",
   "execution_count": 153,
   "id": "6ea0598d",
   "metadata": {},
   "outputs": [
    {
     "name": "stdout",
     "output_type": "stream",
     "text": [
      "✅ Model saved to 'diabetes_model.pkl' successfully.\n"
     ]
    }
   ],
   "source": [
    "# 1. After training the model\n",
    "pickle_handler = PickleHandler()\n",
    "pickle_handler.save_model('diabetes_model.pkl')\n",
    "\n",
    "# # Predict using the loaded model\n",
    "# predictor = pickle_handler.load_model()\n",
    "\n",
    "# Predictor(predictor)  \n",
    "\n",
    "# # Example input for prediction\n",
    "# new_input = pd.DataFrame({\n",
    "#     'Preg': [4],\n",
    "#     'Glu': [140],\n",
    "#     'BP': [70],\n",
    "#     'Skin': [20],\n",
    "#     'Ins': [80],\n",
    "#     'BMI': [33.0],\n",
    "#     'DPF': [0.6],\n",
    "#     'Age': [45]\n",
    "# })\n",
    "\n",
    "# result = predictor.predict(new_input)\n",
    "# print(\"Prediction from Pickled Model:\", \"Diabetic\" if result[0] == 1 else \"Not Diabetic\")\n"
   ]
  }
 ],
 "metadata": {
  "kernelspec": {
   "display_name": "base",
   "language": "python",
   "name": "python3"
  },
  "language_info": {
   "codemirror_mode": {
    "name": "ipython",
    "version": 3
   },
   "file_extension": ".py",
   "mimetype": "text/x-python",
   "name": "python",
   "nbconvert_exporter": "python",
   "pygments_lexer": "ipython3",
   "version": "3.12.7"
  }
 },
 "nbformat": 4,
 "nbformat_minor": 5
}
